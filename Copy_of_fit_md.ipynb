{
  "cells": [
    {
      "cell_type": "markdown",
      "metadata": {
        "id": "view-in-github",
        "colab_type": "text"
      },
      "source": [
        "<a href=\"https://colab.research.google.com/github/jcandane/numpy_MD/blob/master/Copy_of_fit_md.ipynb\" target=\"_parent\"><img src=\"https://colab.research.google.com/assets/colab-badge.svg\" alt=\"Open In Colab\"/></a>"
      ]
    },
    {
      "cell_type": "markdown",
      "metadata": {
        "id": "uajzAqeH3NIr"
      },
      "source": [
        "# Large Scale Fitted-Interpolated-Tabulated MD (FIT-MD)"
      ]
    },
    {
      "cell_type": "markdown",
      "metadata": {
        "id": "fm6cTRxw3Sqc"
      },
      "source": [
        "## Import Stuff"
      ]
    },
    {
      "cell_type": "markdown",
      "metadata": {
        "id": "TQd5tGyD3oVi"
      },
      "source": [
        "### git clone packages"
      ]
    },
    {
      "cell_type": "code",
      "execution_count": null,
      "metadata": {
        "colab": {
          "base_uri": "https://localhost:8080/"
        },
        "id": "Pwr3o-2A3Mp2",
        "outputId": "6c88e9e7-7b3c-4b4b-a2fe-cd8580b235d9"
      },
      "outputs": [
        {
          "output_type": "stream",
          "name": "stdout",
          "text": [
            "fatal: destination path 'CellList' already exists and is not an empty directory.\n",
            "fatal: destination path 'xyz_file_manager' already exists and is not an empty directory.\n",
            "fatal: destination path 'pykry' already exists and is not an empty directory.\n",
            "Looking in indexes: https://pypi.org/simple, https://us-python.pkg.dev/colab-wheels/public/simple/\n",
            "Requirement already satisfied: numba in /usr/local/lib/python3.7/dist-packages (0.51.2)\n",
            "Requirement already satisfied: setuptools in /usr/local/lib/python3.7/dist-packages (from numba) (57.4.0)\n",
            "Requirement already satisfied: numpy>=1.15 in /usr/local/lib/python3.7/dist-packages (from numba) (1.21.6)\n",
            "Requirement already satisfied: llvmlite<0.35,>=0.34.0.dev0 in /usr/local/lib/python3.7/dist-packages (from numba) (0.34.0)\n"
          ]
        }
      ],
      "source": [
        "!git clone https://github.com/jcandane/CellList\n",
        "!git clone https://github.com/jcandane/xyz_file_manager\n",
        "!git clone https://github.com/jcandane/pykry\n",
        "!pip install numba"
      ]
    },
    {
      "cell_type": "markdown",
      "metadata": {
        "id": "McCCofcJ3qx6"
      },
      "source": [
        "### Import Packages"
      ]
    },
    {
      "cell_type": "code",
      "execution_count": null,
      "metadata": {
        "id": "EBpto0l83ToI"
      },
      "outputs": [],
      "source": [
        "import numpy as np\n",
        "import matplotlib.pyplot as plt\n",
        "import time\n",
        "from tqdm import tqdm\n",
        "from CellList.CellList import celllist, boxbox\n",
        "from xyz_file_manager.xyz_manager import xyz_reader, Get_xyz_movie\n",
        "from pykry.fcc import FCClattice\n",
        "\n",
        "import numba\n",
        "from   numba import jit, njit\n",
        "\n",
        "π = np.pi\n",
        "\n",
        "np.set_printoptions(precision=4, linewidth=200, threshold=2000, suppress=True)\n",
        "\n",
        "def get_gR(g_r, NN=10):\n",
        "    \"\"\"\n",
        "    coarse grain g(r) by NN\n",
        "    \"\"\"\n",
        "\n",
        "    g_R = g_r.reshape((g_r.shape[0], g_r.shape[1]//NN, NN))\n",
        "    RR  = np.arange(g_R.shape[1])\n",
        "\n",
        "    g_R = np.sum(g_R, axis=2)\n",
        "    g_R[:,0] = 0\n",
        "    g_R[:,1:] = g_R[:,1:] / (4 * π * RR[1:]**2)\n",
        "    return RR, g_R"
      ]
    },
    {
      "cell_type": "markdown",
      "metadata": {
        "id": "9X9HYCQi3t9W"
      },
      "source": [
        "## Initialize System (& compute celllist)"
      ]
    },
    {
      "cell_type": "code",
      "execution_count": null,
      "metadata": {
        "colab": {
          "base_uri": "https://localhost:8080/"
        },
        "id": "bGpZeUo03ftK",
        "outputId": "0268ae0a-3d91-4bbb-c3f9-f48665e4bc66"
      },
      "outputs": [
        {
          "output_type": "stream",
          "name": "stdout",
          "text": [
            "Number of Atoms: 4000\n",
            "Number of Boxes: 27\n",
            "Number of Box-Box Interactions: 279\n"
          ]
        }
      ],
      "source": [
        "#Z, R_ix = xyz_reader(\"Ar_1000.xyz\") ## R_ix [Å]\n",
        "Z, R_ix, m_i = FCClattice(9.9324005, 18, 10, 10, 10, CoM=np.array([0.,0.,0.])) ## a = 9.9324005 a0 (Bohr Radius) for Ar\n",
        "\n",
        "IJ, indexes, sorted = celllist(R_ix, 24) ## box-size in [å]\n",
        "\n",
        "print(\"Number of Atoms: \" + str(len(Z)))\n",
        "print(\"Number of Boxes: \" + str(sorted.shape[0] - 1))\n",
        "print(\"Number of Box-Box Interactions: \" + str(IJ.size//2) )"
      ]
    },
    {
      "cell_type": "markdown",
      "metadata": {
        "id": "JsWM_O2k34th"
      },
      "source": [
        "## Tabulated Potential"
      ]
    },
    {
      "cell_type": "code",
      "execution_count": null,
      "metadata": {
        "colab": {
          "base_uri": "https://localhost:8080/",
          "height": 269
        },
        "id": "H2dyxH7m36mH",
        "outputId": "0750d349-2888-4018-dc47-98ea69f7dea7"
      },
      "outputs": [
        {
          "output_type": "display_data",
          "data": {
            "text/plain": [
              "<Figure size 432x288 with 1 Axes>"
            ],
            "image/png": "[encoded data removed]"
          },
          "metadata": {
            "needs_background": "light"
          }
        }
      ],
      "source": [
        "#### !!! We have to deal with 3 spatial units: Å (Ångström), a0 (Bohr), & u (tabulated units) !!!\n",
        "## https://simonensemble.github.io/PorousMaterials.jl/dev/force_field/\n",
        "\n",
        "def get_router(l):\n",
        "    router  = np.triu( np.arange(0,l,1)[None,:] + np.cumsum( np.roll(np.flip(np.arange(0,l,1)), 1))[:,None] )\n",
        "    router -= (np.eye(l, dtype=np.int64) - 1) * router.T\n",
        "    return router\n",
        "\n",
        "\n",
        "åCu = 100      # å/u  ##\n",
        "åCÅ = 1.889727  # å/Å  ### 1.8897259885\n",
        "ÅCu = åCu / åCÅ # Å/u\n",
        "\n",
        "## http://www.sklogwiki.org/SklogWiki/index.php/Argon\n",
        "#σ = 6.42507 ## å, in bohr xor 0.34 nm [Rahman 1964] \n",
        "#ε = 3.80e-4  ## 120 K  [Rahman 1964]\n",
        "\n",
        "def get_LJ_potential(Zname, σ, ε, u= 0.01, R_in=2.0,  R_out=180.0): ## u (å)\n",
        "\n",
        "    ### Lorentz-Berthelot rules\n",
        "    εε = np.sqrt( ε[:,None]*ε[None,:])\n",
        "    εε = εε[np.triu_indices(εε.shape[0], k = 0)]\n",
        "    σσ = (σ[:,None] + σ[None,:]) / 2\n",
        "    σσ = σσ[np.triu_indices(σσ.shape[0], k = 0)] \n",
        "\n",
        "    ### domain in tabulated units\n",
        "    xi     = np.arange( 0.0,  R_in, u)\n",
        "    x      = np.arange(R_in, R_out, u) ### these are in Å, units, R_ix / u\n",
        "    xx     = np.concatenate((xi, x))\n",
        "\n",
        "    LJE_Ar =  4 * εε[:,None] * ( (σσ[:,None] / x[None,:])**12    - (σσ[:,None] / x[None,:])**6 )\n",
        "    LJf_Ar = 24 * εε[:,None] * ( 2*σσ[:,None]**12 / x[None,:]**13 - σσ[:,None]**6 / x[None,:]**7 )\n",
        "    LJE_Ari = np.zeros( (LJE_Ar.shape[0], xi.shape[0]) ) ## 0-part close to atomic-core\n",
        "    LJf_Ari = np.zeros( (LJf_Ar.shape[0], xi.shape[0]) ) ## 0-part close to atomic-core\n",
        "\n",
        "    ### package+up\n",
        "    LJE_Ar = np.concatenate((LJE_Ari, LJE_Ar), axis=1)\n",
        "    LJf_Ar = np.concatenate((LJf_Ari, LJf_Ar), axis=1)\n",
        "    E_nAR = np.asarray([LJE_Ar, LJf_Ar])\n",
        "    return xx, E_nAR, 1/u, get_router(len(Zname)) ### how to set åCu .....????\n",
        "\n",
        "\n",
        "####################\n",
        "\n",
        "σ = np.array([6.42507, 6.42507]) ## \n",
        "ε = np.array([3.80e-4, 5.00e-4])\n",
        "Z_consdier = np.array([\"Ar\", \"Ar*\"]) \n",
        "x, E_nAR, åCu, router = get_LJ_potential(Z_consdier, σ, ε )\n",
        "\n",
        "plt.plot(x,E_nAR[0,0])\n",
        "plt.plot(x,E_nAR[0,1])\n",
        "plt.plot(x,E_nAR[0,2])\n",
        "plt.xlim([6,13])\n",
        "plt.ylim([-0.0006,0.0002])\n",
        "plt.show()"
      ]
    },
    {
      "cell_type": "markdown",
      "metadata": {
        "id": "HmhQrfLt4GoA"
      },
      "source": [
        "## Compute all boxbox interactions (given celllist & tabulated-potential)"
      ]
    },
    {
      "cell_type": "code",
      "execution_count": null,
      "metadata": {
        "colab": {
          "base_uri": "https://localhost:8080/"
        },
        "id": "mX71mf4f30Vy",
        "outputId": "c849a28c-dab6-4865-ccc3-48ac1969f083"
      },
      "outputs": [
        {
          "output_type": "stream",
          "name": "stdout",
          "text": [
            "Energy    = -9.882415315144 a.u.\n",
            "net force = -0.000000000000 a.u.\n",
            "timer     = 0.844626 s\n"
          ]
        }
      ],
      "source": [
        "start = time.time()\n",
        "\n",
        "AT_i = np.zeros(Z.shape, dtype=int)\n",
        "\n",
        "E, f_ix, g_r = boxbox(R_ix, AT_i,    IJ, indexes, sorted,     E_nAR, åCu, router) ## this is basically given R_ix, AT_i compute force\n",
        "\n",
        "print(\"Energy    = %4.12f a.u.\" %E)\n",
        "print(\"net force = %4.12f a.u.\" %(np.sum(f_ix)))\n",
        "print(\"timer     = %4.6f s\" % (time.time()-start))"
      ]
    },
    {
      "cell_type": "code",
      "execution_count": null,
      "metadata": {
        "colab": {
          "base_uri": "https://localhost:8080/"
        },
        "id": "HlQsIiEBiZ3s",
        "outputId": "220a5250-cb1d-4178-bec6-098a1f50c919"
      },
      "outputs": [
        {
          "output_type": "execute_result",
          "data": {
            "text/plain": [
              "-9.88241531514397"
            ]
          },
          "metadata": {},
          "execution_count": 98
        }
      ],
      "source": [
        "E"
      ]
    },
    {
      "cell_type": "markdown",
      "metadata": {
        "id": "HCF1MGvp4v2p"
      },
      "source": [
        "## Verlet"
      ]
    },
    {
      "cell_type": "code",
      "execution_count": null,
      "metadata": {
        "colab": {
          "base_uri": "https://localhost:8080/",
          "height": 282
        },
        "id": "Rv358Gu14xCH",
        "outputId": "af89efdb-b207-4ae2-a417-8629a332d524"
      },
      "outputs": [
        {
          "output_type": "stream",
          "name": "stderr",
          "text": [
            "100%|██████████| 1000/1000 [09:11<00:00,  1.81it/s]\n"
          ]
        },
        {
          "output_type": "display_data",
          "data": {
            "text/plain": [
              "<Figure size 432x288 with 1 Axes>"
            ],
            "image/png": "[encoded data removed]"
          },
          "metadata": {
            "needs_background": "light"
          }
        }
      ],
      "source": [
        "Z, R_ix, m_i = FCClattice(9.9324005, 18, 12, 10, 9, CoM=np.array([0.,0.,0.]))\n",
        "AT_i = np.zeros(Z.shape, dtype=int)\n",
        "\n",
        "IJ, indexes, sorted = celllist(R_ix, 15) ## box-size in [Å]\n",
        "\n",
        "dT   = 100.\n",
        "Time = np.arange(0, 100000, dT) ## a.u. 10000 a.u. = 242 fs, 100000 = 2.42 ps\n",
        "\n",
        "v_ix  = np.zeros(R_ix.shape)\n",
        "a_ix  = np.zeros(R_ix.shape)\n",
        "\n",
        "NN    = 10\n",
        "E_T   = np.zeros(Time.shape)\n",
        "g_R   = np.zeros((Time.shape[0], E_nAR.shape[1], E_nAR.shape[2]//NN))\n",
        "for T in tqdm(range(len(Time))):\n",
        "    R_ix  += v_ix * dT + a_ix * dT*dT/2\n",
        "    \n",
        "    U, f_ix, g_r = boxbox(R_ix, AT_i,    IJ, indexes, sorted,     E_nAR, åCu, router)\n",
        "    A_ix   = f_ix/m_i[:,None]/2 ### !!! or here__ /2???\n",
        "    \n",
        "    v_ix  += (A_ix + a_ix) * dT/2\n",
        "    a_ix   = A_ix\n",
        "\n",
        "    RR, g_R[T] = get_gR(g_r, NN=NN)\n",
        "    E_T[T] = np.sum( m_i[:,None] * v_ix**2)/2 + U ## !! why divide KE by 2?? i.e. np.sum( m_i[:,None] * v_ix**2)/2 / 2\n",
        "    \n",
        "\n",
        "plt.plot(Time, E_T[0] - E_T)\n",
        "plt.show()"
      ]
    },
    {
      "cell_type": "code",
      "execution_count": null,
      "metadata": {
        "id": "Wo1y7E0qwefd",
        "colab": {
          "base_uri": "https://localhost:8080/",
          "height": 282
        },
        "outputId": "706e17a4-af1f-472a-d973-955adb1add27"
      },
      "outputs": [
        {
          "output_type": "stream",
          "name": "stderr",
          "text": [
            "100%|██████████| 200/200 [01:50<00:00,  1.82it/s]\n"
          ]
        },
        {
          "output_type": "display_data",
          "data": {
            "text/plain": [
              "<Figure size 432x288 with 1 Axes>"
            ],
            "image/png": "[encoded data removed]"
          },
          "metadata": {
            "needs_background": "light"
          }
        }
      ],
      "source": [
        "Z, R_ix, m_i = FCClattice(9.9324005, 18, 12, 10, 9, CoM=np.array([0.,0.,0.]))\n",
        "AT_i = np.zeros(Z.shape, dtype=int)\n",
        "\n",
        "IJ, indexes, sorted = celllist(R_ix, 15) ## box-size in [Å]\n",
        "\n",
        "dT   = 100.\n",
        "Time = np.arange(0, 20000, dT) ## a.u. 10000 a.u. = 242 fs, 100000 = 2.42 ps\n",
        "\n",
        "v_ix  = np.zeros(R_ix.shape)\n",
        "a_ix  = np.zeros(R_ix.shape)\n",
        "\n",
        "NN    = 10\n",
        "E_T   = np.zeros(Time.shape)\n",
        "g_R   = np.zeros((Time.shape[0], E_nAR.shape[1], E_nAR.shape[2]//NN))\n",
        "for T in tqdm(range(len(Time))):\n",
        "    R_ix  += v_ix * dT + a_ix * dT*dT/2\n",
        "    \n",
        "    U, f_ix, g_r = boxbox(R_ix, AT_i,    IJ, indexes, sorted,     E_nAR, åCu, router)\n",
        "    A_ix   = f_ix/m_i[:,None]/2 ### !!! or here__ /2???\n",
        "    \n",
        "    v_ix  += (A_ix + a_ix) * dT/2\n",
        "    a_ix   = A_ix\n",
        "\n",
        "    RR, g_R[T] = get_gR(g_r, NN=NN)\n",
        "    E_T[T] = np.sum( m_i[:,None] * v_ix**2)/2 + U ## !! why divide KE by 2?? i.e. np.sum( m_i[:,None] * v_ix**2)/2 / 2\n",
        "    \n",
        "\n",
        "plt.plot(Time, E_T[0] - E_T)\n",
        "plt.show()"
      ]
    },
    {
      "cell_type": "code",
      "execution_count": null,
      "metadata": {
        "colab": {
          "base_uri": "https://localhost:8080/",
          "height": 265
        },
        "id": "XpB_3CKqwnX0",
        "outputId": "d4df6fad-789b-4d84-c40f-f5fee438b87d"
      },
      "outputs": [
        {
          "output_type": "display_data",
          "data": {
            "text/plain": [
              "<Figure size 432x288 with 1 Axes>"
            ],
            "image/png": "[encoded data removed]"
          },
          "metadata": {
            "needs_background": "light"
          }
        }
      ],
      "source": [
        "plt.plot(RR, g_R[0,0], label=\"t=0\")\n",
        "plt.plot(RR, g_R[10,0], label=\"t=10\")\n",
        "plt.plot(RR, g_R[15,0], label=\"t=15\")\n",
        "plt.plot(RR, g_R[190,0], label=\"t=50\")\n",
        "plt.xlim(0,300)\n",
        "plt.legend()\n",
        "plt.show()"
      ]
    },
    {
      "cell_type": "markdown",
      "metadata": {
        "id": "asfSPz-hOIF3"
      },
      "source": [
        "## Numba Version"
      ]
    },
    {
      "cell_type": "code",
      "source": [
        "@njit(nopython=True)\n",
        "def Numba_BB(R_ix, AT_i,    IJ,     router):\n",
        "    ##### keep distance in integer and decimal datatype......\n",
        "\n",
        "    #R_ijx = np.array([ np.outer(R_ix[:,0], R_ix[:,0]), np.outer(R_ix[:,1], R_ix[:,1]), np.outer(R_ix[:,2], R_ix[:,2]) ])\n",
        "\n",
        "    for i in range(len(IJ)):\n",
        "        I, J  = IJ[i]\n",
        "        I_i   = indexes[ sorted[I]:sorted[I+1] ] ## atom indices belonging to box I\n",
        "        J_j   = indexes[ sorted[J]:sorted[J+1] ] \n",
        "\n",
        "        R_ijx = np.empty((len(I_i),len(J_j),3))\n",
        "        R_ijx[:,:,0] = np.outer(R_ix[I_i,0], R_ix[J_j,0])\n",
        "        R_ijx[:,:,1] = np.outer(R_ix[I_i,1], R_ix[J_j,1])\n",
        "        R_ijx[:,:,2] = np.outer(R_ix[I_i,2], R_ix[J_j,2])\n",
        "\n",
        "        distance = np.sqrt(np.sum(R_ijx**2, axis=2))\n",
        "\n",
        "        R_ijx[:,:,0]  *= 1/(distance + 1e-12)\n",
        "        R_ijx[:,:,1]  *= 1/(distance + 1e-12)\n",
        "        R_ijx[:,:,2]  *= 1/(distance + 1e-12)\n",
        "\n",
        "        #N, dx    = distance.astype(int), distance-distance.astype(int)\n",
        "        #distance.astype(int)\n",
        "        N, dx    = distance.astype(np.int32), distance-np.floor(distance) ### are floor and int type the same???\n",
        "        \n",
        "        #### get pair-atom-type\n",
        "        #AT = router[ np.outer(AT_i[I_i], np.ones(len(J_j), dtype=np.int32)) , np.outer(np.ones(len(I_i), dtype=np.int32), AT_i[J_j]) ]\n",
        "        ###router[ np.outer(AT_i[I_i], np.ones(len(J_j), dtype=np.int32) ), np.outer(np.ones(len(I_i), dtype=np.int32), AT_i[J_j]) ]\n",
        "    print(N.shape)\n",
        "    return None\n",
        "\n",
        "Numba_BB(R_ix, AT_i,     IJ,    router)\n",
        "\n",
        "#np.array([ np.outer(R_ix[:,0], R_ix[:,0]), np.outer(R_ix[:,1], R_ix[:,1]), np.outer(R_ix[:,2], R_ix[:,2]) ]).shape\n",
        "#(R_ix.size)*5 #.repeat(5).shape"
      ],
      "metadata": {
        "colab": {
          "base_uri": "https://localhost:8080/"
        },
        "id": "vha_49dPenHj",
        "outputId": "bcb59f7e-5027-4f79-f218-0a659b66b4ba"
      },
      "execution_count": null,
      "outputs": [
        {
          "output_type": "stream",
          "name": "stderr",
          "text": [
            "/usr/local/lib/python3.7/dist-packages/numba/core/decorators.py:252: RuntimeWarning: nopython is set for njit and is ignored\n",
            "  warnings.warn('nopython is set for njit and is ignored', RuntimeWarning)\n"
          ]
        },
        {
          "output_type": "stream",
          "name": "stdout",
          "text": [
            "(14, 14)\n"
          ]
        }
      ]
    },
    {
      "cell_type": "code",
      "source": [
        "Numba_BB(R_ix, AT_i,     IJ,    router)"
      ],
      "metadata": {
        "colab": {
          "base_uri": "https://localhost:8080/"
        },
        "id": "ix5kH-kFkiad",
        "outputId": "8be750ce-c2c7-4f5e-ba68-7cbf9bf22e94"
      },
      "execution_count": null,
      "outputs": [
        {
          "output_type": "stream",
          "name": "stdout",
          "text": [
            "(14, 14)\n"
          ]
        }
      ]
    },
    {
      "cell_type": "code",
      "execution_count": null,
      "metadata": {
        "id": "Rffyyz1tzMLC",
        "colab": {
          "base_uri": "https://localhost:8080/",
          "height": 140
        },
        "outputId": "1f1cc690-b04f-44da-c9be-f6b5c3190dff"
      },
      "outputs": [
        {
          "output_type": "execute_result",
          "data": {
            "text/plain": [
              "'\\n@jit(nopython=True)\\ndef Numba_boxbox(C_ix, AT_i,    IJ, indexes, sorted,     E_nAR, u, router):\\n    \\'\\'\\'\\n    GIVEN:  Atom Character;   R_ix (positions), AT_i (Unary Atom-Types)\\n            Box Neighborhood; IJ (Box Pairs), indexes (over all atoms), sorted (over all boxes)\\n            Potential;  E_nAR (Potential; n (derivative), A (pair-type), and R (Radial distance))\\n                        u (unit of potential vs Bohr)\\n                        router (router for pair-wise atom types)\\n    GET:    E (energy), f_ix (force), and g_r (pair-correlation)\\n    \\'\\'\\'\\n    \\n    #R_ix  = C_ix * åCu ## convert R_ix from Bohr into tabulated units\\n    R_ix  = C_ix * u ##\\n    E     = 0.\\n    f_ix  = np.zeros(R_ix.shape)\\n    g_r   = np.zeros(E_nAR[0].shape)\\n    for i in range(len(IJ)):\\n        I, J  = IJ[i]\\n        I_i   = indexes[ sorted[I]:sorted[I+1] ] ## atom indices belonging to box I\\n        J_j   = indexes[ sorted[J]:sorted[J+1] ] ## atom indices belonging to box J\\n\\n        \\n        ## displacement/distance calculation\\n        R_ijx    = np.zeros((len(R_ix), len(R_ix), 3))# R_ix[ I_i, None, : ] - R_ix[ None, J_j, : ]\\n        distance = np.sqrt(np.sum(R_ijx**2, axis=2)) #np.linalg.norm(R_ijx, axis=2)\\n        R_ijx   *= 1/(distance[:,:,None] + 1e-10)\\n        N, dx    = distance.astype(int), distance-distance.astype(int)\\n\\n        ## get pair-atom-types from unary-atom-types\\n        AT = router[ np.outer(AT_i[I_i], np.ones(len(J_j), dtype=int)) , np.outer(np.ones(len(I_i), dtype=int), AT_i[J_j]) ]\\n\\n        ## save pair-correlation, pair-energy, & pair-forces\\n        g_r[AT, N] += 1\\n        E          += np.sum( E_nAR[ 0, AT, N ] - E_nAR[ 1, AT, N ] * dx/u )/2 ### use instead analytic derivative?? E_nAR[ 1, AT, N ]??\\n        #E          += np.sum( E_nAR[ 0, AT, N ] - (E_nAR[ 1, AT, N ]/åCu) * dx )/2\\n        #E          += np.sum(E_nAR[ 0, AT, N ] + (E_nAR[ 0, AT, N+1 ] - E_nAR[ 0, AT, N ] ) * dx)/2 ### use instead analytic derivative?? E_nAR[ 1, AT, N ]??\\n        f_ijx       =  (E_nAR[ 1, AT, N ] + (E_nAR[ 1, AT, N+1 ] - E_nAR[ 1, AT, N ] ) * dx)[:,:,None] * R_ijx\\n        f_ix[I_i]  += np.sum( f_ijx, axis=1)\\n        f_ix[J_j]  -= np.sum( f_ijx, axis=0)\\n\\n    return E, f_ix, g_r \\n\\nU, f_ix, g_r = Numba_boxbox(R_ix, AT_i,    IJ, indexes, sorted,     E_nAR, åCu, router)\\n\\nstart = time.time()\\nU, f_ix, g_r = boxbox(R_ix, AT_i,    IJ, indexes, sorted,     E_nAR, åCu, router)\\nprint(\"Old = %4.6f s\"  % (time.time()-start) )\\n\\nstart = time.time()\\nU, f_ix, g_r = Numba_boxbox(R_ix, AT_i,    IJ, indexes, sorted,     E_nAR, åCu, router)\\nprint(\"Numba = %4.6f s\"  % (time.time()-start) )\\n'"
            ],
            "application/vnd.google.colaboratory.intrinsic+json": {
              "type": "string"
            }
          },
          "metadata": {},
          "execution_count": 103
        }
      ],
      "source": [
        "\"\"\"\n",
        "@jit(nopython=True)\n",
        "def Numba_boxbox(C_ix, AT_i,    IJ, indexes, sorted,     E_nAR, u, router):\n",
        "    '''\n",
        "    GIVEN:  Atom Character;   R_ix (positions), AT_i (Unary Atom-Types)\n",
        "            Box Neighborhood; IJ (Box Pairs), indexes (over all atoms), sorted (over all boxes)\n",
        "            Potential;  E_nAR (Potential; n (derivative), A (pair-type), and R (Radial distance))\n",
        "                        u (unit of potential vs Bohr)\n",
        "                        router (router for pair-wise atom types)\n",
        "    GET:    E (energy), f_ix (force), and g_r (pair-correlation)\n",
        "    '''\n",
        "    \n",
        "    #R_ix  = C_ix * åCu ## convert R_ix from Bohr into tabulated units\n",
        "    R_ix  = C_ix * u ##\n",
        "    E     = 0.\n",
        "    f_ix  = np.zeros(R_ix.shape)\n",
        "    g_r   = np.zeros(E_nAR[0].shape)\n",
        "    for i in range(len(IJ)):\n",
        "        I, J  = IJ[i]\n",
        "        I_i   = indexes[ sorted[I]:sorted[I+1] ] ## atom indices belonging to box I\n",
        "        J_j   = indexes[ sorted[J]:sorted[J+1] ] ## atom indices belonging to box J\n",
        "\n",
        "        \n",
        "        ## displacement/distance calculation\n",
        "        R_ijx    = np.zeros((len(R_ix), len(R_ix), 3))# R_ix[ I_i, None, : ] - R_ix[ None, J_j, : ]\n",
        "        distance = np.sqrt(np.sum(R_ijx**2, axis=2)) #np.linalg.norm(R_ijx, axis=2)\n",
        "        R_ijx   *= 1/(distance[:,:,None] + 1e-10)\n",
        "        N, dx    = distance.astype(int), distance-distance.astype(int)\n",
        "\n",
        "        ## get pair-atom-types from unary-atom-types\n",
        "        AT = router[ np.outer(AT_i[I_i], np.ones(len(J_j), dtype=int)) , np.outer(np.ones(len(I_i), dtype=int), AT_i[J_j]) ]\n",
        "\n",
        "        ## save pair-correlation, pair-energy, & pair-forces\n",
        "        g_r[AT, N] += 1\n",
        "        E          += np.sum( E_nAR[ 0, AT, N ] - E_nAR[ 1, AT, N ] * dx/u )/2 ### use instead analytic derivative?? E_nAR[ 1, AT, N ]??\n",
        "        #E          += np.sum( E_nAR[ 0, AT, N ] - (E_nAR[ 1, AT, N ]/åCu) * dx )/2\n",
        "        #E          += np.sum(E_nAR[ 0, AT, N ] + (E_nAR[ 0, AT, N+1 ] - E_nAR[ 0, AT, N ] ) * dx)/2 ### use instead analytic derivative?? E_nAR[ 1, AT, N ]??\n",
        "        f_ijx       =  (E_nAR[ 1, AT, N ] + (E_nAR[ 1, AT, N+1 ] - E_nAR[ 1, AT, N ] ) * dx)[:,:,None] * R_ijx\n",
        "        f_ix[I_i]  += np.sum( f_ijx, axis=1)\n",
        "        f_ix[J_j]  -= np.sum( f_ijx, axis=0)\n",
        "\n",
        "    return E, f_ix, g_r \n",
        "\n",
        "U, f_ix, g_r = Numba_boxbox(R_ix, AT_i,    IJ, indexes, sorted,     E_nAR, åCu, router)\n",
        "\n",
        "start = time.time()\n",
        "U, f_ix, g_r = boxbox(R_ix, AT_i,    IJ, indexes, sorted,     E_nAR, åCu, router)\n",
        "print(\"Old = %4.6f s\"  % (time.time()-start) )\n",
        "\n",
        "start = time.time()\n",
        "U, f_ix, g_r = Numba_boxbox(R_ix, AT_i,    IJ, indexes, sorted,     E_nAR, åCu, router)\n",
        "print(\"Numba = %4.6f s\"  % (time.time()-start) )\n",
        "\"\"\""
      ]
    },
    {
      "cell_type": "code",
      "execution_count": null,
      "metadata": {
        "id": "Gt9sOBSC6jfM",
        "colab": {
          "base_uri": "https://localhost:8080/",
          "height": 140
        },
        "outputId": "7cd5a1d6-4484-40da-82cc-75630863d314"
      },
      "outputs": [
        {
          "output_type": "execute_result",
          "data": {
            "text/plain": [
              "'\\n@jit(nopython=True)\\ndef Numba_test(C_ix, AT_i,    IJ, indexes, sorted,     E_nAR, u, router):\\n    \"\"\"\\n    GIVEN:  Atom Character;   R_ix (positions), AT_i (Unary Atom-Types)\\n            Box Neighborhood; IJ (Box Pairs), indexes (over all atoms), sorted (over all boxes)\\n            Potential;  E_nAR (Potential; n (derivative), A (pair-type), and R (Radial distance))\\n                        u (unit of potential vs Bohr)\\n                        router (router for pair-wise atom types)\\n    GET:    E (energy), f_ix (force), and g_r (pair-correlation)\\n    \"\"\"\\n    \\n    #R_ix  = C_ix * åCu ## convert R_ix from Bohr into tabulated units\\n    R_ix  = C_ix * u ##\\n    E     = 0.\\n    f_ix  = np.zeros(R_ix.shape)\\n    g_r   = np.zeros(E_nAR[0].shape)\\n    for i in range(len(IJ)):\\n        I, J  = IJ[i]\\n        I_i   = indexes[ sorted[I]:sorted[I+1] ] ## atom indices belonging to box I\\n        J_j   = indexes[ sorted[J]:sorted[J+1] ] ## atom indices belonging to box J\\n\\n        R_ijx  = np.zeros((len(I_i), len(J_j), 3))\\n        for j in range(len(I_i)):\\n            for k in range(len(J_j)):\\n                R_ijx[j,k,:] = R_ix[ I_i[j] ] - R_ix[ J_j[k] ]\\n\\n        #R_ijx = np.outer( np.ones(len(J_j)), R_ix[ I_i ]) # - np.outer( np.ones(len(I_i)), R_ix[ J_j, : ]).\\n        \\n        #print(np.outer( np.ones(len(I_i)), R_ix[ J_j, : ]).shape)\\n\\n    return E, f_ix, g_r \\n\\nU, f_ix, g_r = Numba_test(R_ix, AT_i,    IJ, indexes, sorted,     E_nAR, åCu, router)\\n\\nstart = time.time()\\nU, f_ix, g_r = Numba_test(R_ix, AT_i,    IJ, indexes, sorted,     E_nAR, åCu, router)\\nprint(\"Numba = %4.6f s\"  % (time.time()-start) )\\n'"
            ],
            "application/vnd.google.colaboratory.intrinsic+json": {
              "type": "string"
            }
          },
          "metadata": {},
          "execution_count": 104
        }
      ],
      "source": [
        "'''\n",
        "@jit(nopython=True)\n",
        "def Numba_test(C_ix, AT_i,    IJ, indexes, sorted,     E_nAR, u, router):\n",
        "    \"\"\"\n",
        "    GIVEN:  Atom Character;   R_ix (positions), AT_i (Unary Atom-Types)\n",
        "            Box Neighborhood; IJ (Box Pairs), indexes (over all atoms), sorted (over all boxes)\n",
        "            Potential;  E_nAR (Potential; n (derivative), A (pair-type), and R (Radial distance))\n",
        "                        u (unit of potential vs Bohr)\n",
        "                        router (router for pair-wise atom types)\n",
        "    GET:    E (energy), f_ix (force), and g_r (pair-correlation)\n",
        "    \"\"\"\n",
        "    \n",
        "    #R_ix  = C_ix * åCu ## convert R_ix from Bohr into tabulated units\n",
        "    R_ix  = C_ix * u ##\n",
        "    E     = 0.\n",
        "    f_ix  = np.zeros(R_ix.shape)\n",
        "    g_r   = np.zeros(E_nAR[0].shape)\n",
        "    for i in range(len(IJ)):\n",
        "        I, J  = IJ[i]\n",
        "        I_i   = indexes[ sorted[I]:sorted[I+1] ] ## atom indices belonging to box I\n",
        "        J_j   = indexes[ sorted[J]:sorted[J+1] ] ## atom indices belonging to box J\n",
        "\n",
        "        R_ijx  = np.zeros((len(I_i), len(J_j), 3))\n",
        "        for j in range(len(I_i)):\n",
        "            for k in range(len(J_j)):\n",
        "                R_ijx[j,k,:] = R_ix[ I_i[j] ] - R_ix[ J_j[k] ]\n",
        "\n",
        "        #R_ijx = np.outer( np.ones(len(J_j)), R_ix[ I_i ]) # - np.outer( np.ones(len(I_i)), R_ix[ J_j, : ]).\n",
        "        \n",
        "        #print(np.outer( np.ones(len(I_i)), R_ix[ J_j, : ]).shape)\n",
        "\n",
        "    return E, f_ix, g_r \n",
        "\n",
        "U, f_ix, g_r = Numba_test(R_ix, AT_i,    IJ, indexes, sorted,     E_nAR, åCu, router)\n",
        "\n",
        "start = time.time()\n",
        "U, f_ix, g_r = Numba_test(R_ix, AT_i,    IJ, indexes, sorted,     E_nAR, åCu, router)\n",
        "print(\"Numba = %4.6f s\"  % (time.time()-start) )\n",
        "'''"
      ]
    }
  ],
  "metadata": {
    "colab": {
      "collapsed_sections": [
        "TQd5tGyD3oVi"
      ],
      "name": "Copy of fit_md.ipynb",
      "provenance": [],
      "authorship_tag": "ABX9TyMDgBfosk1UlMxsHVN8Bci1",
      "include_colab_link": true
    },
    "kernelspec": {
      "display_name": "Python 3",
      "name": "python3"
    },
    "language_info": {
      "name": "python"
    }
  },
  "nbformat": 4,
  "nbformat_minor": 0
}