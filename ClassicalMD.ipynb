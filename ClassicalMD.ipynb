{
 "cells": [
  {
   "cell_type": "markdown",
   "metadata": {},
   "source": [
    "## Classical Molecular Dynamics"
   ]
  },
  {
   "cell_type": "code",
   "execution_count": 1,
   "metadata": {},
   "outputs": [],
   "source": [
    "import numpy as np\n",
    "import time\n",
    "import matplotlib.pyplot as plt\n",
    "from tqdm import tqdm\n",
    "from jcp_rgs_md import *"
   ]
  },
  {
   "cell_type": "code",
   "execution_count": 93,
   "metadata": {},
   "outputs": [],
   "source": [
    "def fs_time(au_time):\n",
    "    return 0.0241888 * au_time\n",
    "\n",
    "def GetPairNeighborlist(Z, R_ix, cutoff):\n",
    "    \"\"\"\n",
    "    Given XYZ, get Neighborlist from Cutoff, i.e. i & j (with distance R)\n",
    "    Given Z, get types of pair-interactions, i.e. P, and ZZ corresponding atom types\n",
    "    \"\"\"\n",
    "    \n",
    "    ####### Initial Complete Pair-wise Distance Matrix\n",
    "    onez = np.ones(R_ix.shape[0], dtype=np.float32)\n",
    "    RR  = (np.einsum('jx, i -> ijx', R_ix, onez) - np.einsum('ix, j -> ijx', R_ix, onez))\n",
    "    RR  = np.einsum(\"ijx -> ij\", RR**2)**(0.5)\n",
    "    RR += 2*cutoff*np.eye(len(RR), dtype=np.float32)\n",
    "    \n",
    "    ## i and j which are less than the cutoff\n",
    "    i, j = np.where(RR < cutoff)\n",
    "    \n",
    "    ## find all types of pair interactions\n",
    "    ZZ_unique, pairtypes = np.unique( np.array([Z[i], Z[j]]).T , axis=0, return_inverse=True)\n",
    "    pairtypes = pairtypes.astype(np.int8) ## we want an array of {0,1,2...N} for each pair-type!\n",
    "    \n",
    "    ## finds for each atom, the range of values in P\n",
    "    Atoms_over_Pairs = np.where( np.diff(i) == 1)[0]\n",
    "    Atoms_over_Pairs = np.append(Atoms_over_Pairs, [len(i)-1]).astype(np.int32)\n",
    "    \n",
    "    return i, j, RR[i,j], pairtypes, ZZ_unique, Atoms_over_Pairs\n",
    "\n",
    "def Partition_PairTypes(R_ix, i, j, P):\n",
    "    \"\"\" Given PairTypes partition Neighborlist {i,j} into list i_pair, j_pair \n",
    "    We need a new AR for each pair!!!\n",
    "    \"\"\"\n",
    "    \n",
    "    for pairtype in range(len(ZZ)):\n",
    "        pair = np.where(P == pairtype)[0]\n",
    "        i_pair = i[pair]\n",
    "        j_pair = j[pair]\n",
    "        \n",
    "        ## finds for each atom, the range of values in P\n",
    "        Atoms_over_Pairs = np.where( np.diff(i_pair) == 1)[0]\n",
    "        Atoms_over_Pairs = np.append(Atoms_over_Pairs, [len(i_pair)-1]).astype(np.int32)\n",
    "        \n",
    "        ## calculate basis vectors for pair\n",
    "        basis_vectors = R_ix[i_pair] - R_ix[j_pair]\n",
    "        distances     = (np.einsum(\"Px -> P\", basis_vectors**2)**(0.5))\n",
    "        \n",
    "        ## calculate forces over this pair-list\n",
    "        force_mag     = np.interp(distances, x, LJf_Ar[pairtype]) ## LJE_Ar LJf_Ar   LJf_2 [pairtype]\n",
    "        forces        = np.einsum(\"P, Px, P -> Px\", force_mag, basis_vectors, 1/distances)\n",
    "        \n",
    "        ## get f_ix\n",
    "        cumforce      = np.cumsum(forces, axis=0)[AR,:]\n",
    "        cumforce2     = 1.0*cumforce\n",
    "        cumforce2[0]  = np.zeros(3)\n",
    "        f_ix          = cumforce - cumforce2\n",
    "        \n",
    "        ## get Potential Energy\n",
    "        PE            = np.einsum(\"P -> \", np.interp(distances, x, LJE_Ar[pairtype])) ### LJE_Ar  LJE_2[pairtype]\n",
    "    \n",
    "    return f_ix, PE\n",
    "\n",
    "def GetPairForcez(f_IR, R_ix, i, j, P, AR):\n",
    "    \"\"\"\n",
    "    Given:  Neighborlist Information {i,j,P,AR}\n",
    "            Locations (R_ix)\n",
    "            Force Function (f_IR)\n",
    "    Get:\n",
    "            Force on Atoms (f_ix)\n",
    "    \"\"\"\n",
    "    \n",
    "    basis_vectors = R_ix[i] - R_ix[j] ## basis vectors\n",
    "    distances     = (np.einsum(\"Px -> P\", basis_vectors**2)**(0.5))\n",
    "\n",
    "    R_tab     = (10*distances).astype(np.int16)\n",
    "    force_mag = f_IR[P, R_tab]\n",
    "    forces    = np.einsum(\"P, Px, P -> Px\", force_mag, basis_vectors, 1/distances)\n",
    "    cumforce  = np.cumsum(forces, axis=0)\n",
    "    f_ix      = cumforce[AR,:] - np.roll(cumforce[AR,:], 0)\n",
    "    \n",
    "    return f_ix\n",
    "\n",
    "def GetPairForces(x, LJf_Ar, R_ix, i, j, AR):\n",
    "    \"\"\"\n",
    "    Given:  Neighborlist Information {i,j,P,AR}\n",
    "            Locations (R_ix)\n",
    "            Force Function (f_IR)\n",
    "    Get:\n",
    "            Force on Atoms (f_ix)\n",
    "    \"\"\"\n",
    "    \n",
    "    #### ?? 1/1/22 partition forces atom-pairs based on their interaction!\n",
    "    #### for each partition we net a f_ix, add these together!\n",
    "    #### for each partition we have a AR (that divides cumforces)\n",
    "    \n",
    "    #### calculate forces\n",
    "    basis_vectors = R_ix[i] - R_ix[j]\n",
    "    distances     = (np.einsum(\"Px -> P\", basis_vectors**2)**(0.5))\n",
    "    force_mag     = np.interp(distances, x, LJf_Ar)\n",
    "    forces        = np.einsum(\"P, Px, P -> Px\", force_mag, basis_vectors, 1/distances)\n",
    "    \n",
    "    cumforce      = np.cumsum(forces, axis=0)[AR,:]\n",
    "    cumforce2     = 1.0*cumforce\n",
    "    cumforce2[0]  = np.zeros(3)\n",
    "    f_ix          = cumforce - cumforce2\n",
    "    \n",
    "    PE            = np.einsum(\"P -> \", np.interp(distances, x, LJE_Ar))\n",
    "    \n",
    "    return f_ix, PE\n",
    "\n",
    "### define a class for tablulated force (atom pair + excited state + distance)\n",
    "### define a class for neighborist (given a neighborlist trim it)\n",
    "#R_potential = np.arange(0.1, 15, 0.01)\n",
    "#f_IR        = np.array([np.exp(- 0.2 * R_potential)])\n",
    "\n",
    "#i, j, R, P, ZZ, AR = GetPairNeighborlist(Z, R_ix, Bohr(10)) ## P are pair-types\n",
    "#f_ix = GetPairForcez(f_IR, R_ix, i, j, P, AR)\n",
    "\n",
    "#print( f_ix.shape )\n",
    "#print( np.einsum(\"ix -> \", f_ix  ) )"
   ]
  },
  {
   "cell_type": "code",
   "execution_count": 94,
   "metadata": {},
   "outputs": [
    {
     "data": {
      "text/plain": [
       "array([   0,    0,    0, ..., 4630, 4630, 4630])"
      ]
     },
     "execution_count": 94,
     "metadata": {},
     "output_type": "execute_result"
    }
   ],
   "source": [
    "number_of_neighbors_per_atom_i = np.append(AR[0], np.diff(AR))\n",
    "bulk_atoms = np.where( number_of_neighbors_per_atom_i == np.max(number_of_neighbors_per_atom_i) )[0]\n",
    "#np.max(number_of_neighbors_per_atom_i)\n",
    "bulk_atoms\n",
    "\n",
    "pair = np.where(P == 0)[0]\n",
    "i_pair = i[pair]\n",
    "i_pair"
   ]
  },
  {
   "cell_type": "markdown",
   "metadata": {},
   "source": [
    "## Tabluated Potential\n",
    "\n",
    "##### Here we define a potential on ~10^4 array, probably defined on må.\n",
    "##### If greater than the amount, then the interaction is 0.\n",
    "##### this potential must be sampleds and interpolated!!! forces = np.interp(distances, xp, fp)"
   ]
  },
  {
   "cell_type": "code",
   "execution_count": 80,
   "metadata": {},
   "outputs": [
    {
     "data": {
      "image/png": "[encoded data removed]",
      "text/plain": [
       "<Figure size 432x288 with 1 Axes>"
      ]
     },
     "metadata": {
      "needs_background": "light"
     },
     "output_type": "display_data"
    }
   ],
   "source": [
    "## http://www.sklogwiki.org/SklogWiki/index.php/Argon\n",
    "σ = 6.42507 ## 0.34 nm [Rahman 1964] \n",
    "ε = 3.80e-4  ## 120 K  [Rahman 1964]\n",
    "\n",
    "x       = np.arange(2.0, 20, 0.001)\n",
    "LJE_Ar  =  4*ε*((σ/x)**12 - (σ/x)**6)\n",
    "LJf_Ar  = 24*ε*(σ**6)*(2*σ**6/(x**13) - 1/(x**7))\n",
    "\n",
    "ε = 6.80e-4\n",
    "LJE_Ar2 =  4*ε*((σ/x)**12 - (σ/x)**6)\n",
    "LJf_Ar2 = 24*ε*(σ**6)*(2*σ**6/(x**13) - 1/(x**7))\n",
    "\n",
    "LJf_2 = np.array([LJf_Ar, LJf_Ar2])\n",
    "LJE_2 = np.array([LJE_Ar, LJE_Ar2])\n",
    "\n",
    "plt.plot(x, LJf_2[0], label=\"LJ_Ar Force\")\n",
    "plt.plot(x, LJf_2[1], label=\"LJ_Ar2 Force\")\n",
    "plt.title(\"LJ_Ar Force\")\n",
    "plt.xlabel(\"Interatomic Distance (Bohr)\")\n",
    "plt.ylabel(\"Force (Hartrees/Bohr)\")\n",
    "plt.ylim([-0.0004,0.001])\n",
    "plt.xlim([6.0,20])\n",
    "plt.show()"
   ]
  },
  {
   "cell_type": "code",
   "execution_count": 131,
   "metadata": {},
   "outputs": [
    {
     "name": "stderr",
     "output_type": "stream",
     "text": [
      "1000it [03:03,  5.44it/s]\n"
     ]
    }
   ],
   "source": [
    "### Enviroment Inputs\n",
    "Temp    = 50 #/315774.64\n",
    "T       = 1.01e4 ### total duration in fs\n",
    "dt      = 2.5 ### Time Step in fs\n",
    "Z, R_ix = xyz_reader('Ar_1000.xyz') ### XYZ file. R_ix in Ångströms\n",
    "γ       = 0.0000 # Langevin Coupling (in a.u.)\n",
    "Cutoff  = 10 # in Ångströms\n",
    "\n",
    "i, j, R, P, ZZ, AR = GetPairNeighborlist(Z, R_ix, Bohr(10)) ## P are pair-types\n",
    "\n",
    "mass    = getMass(Z)\n",
    "R_ix    = Bohr(R_ix)\n",
    "v_ix    = 0.0*R_ix\n",
    "a_ix    = 0.0*R_ix\n",
    "\n",
    "dt    = 100     ## a.u. time\n",
    "T_sim = 100000  ## a.u. time\n",
    "time_array = np.arange(0, T_sim, dt) ## in au\n",
    "E_t = np.zeros(time_array.shape)\n",
    "for t, element in tqdm(enumerate(time_array)):\n",
    "    ### Langevin Thermostat\n",
    "    ξ_ix  = np.random.normal(0, 1, (len(R_ix), 3))\n",
    "    θ_ix  = np.random.normal(0, 1, (len(R_ix), 3))\n",
    "    C_ix  = 0.5 * dt * dt * (a_ix - γ*v_ix)\n",
    "    C_ix += 0.5 * (dt**(1.5)) * np.einsum(\"i, ix -> ix\", np.sqrt(2*Temp*γ/mass), ξ_ix + θ_ix/(np.sqrt(3)) )\n",
    "    R_ix += v_ix * dt + C_ix ## 0.5 * a_ix * dt * dt\n",
    "    \n",
    "    #### calculate forces\n",
    "    f_ix, PE  = GetPairForces(x, LJf_Ar, R_ix, i, j, AR)\n",
    "    #f_ix, PE  = Partition_PairTypes(R_ix, i, j, P)\n",
    "    A_ix   = np.einsum(\"ix, i -> ix\", f_ix, 1/mass)\n",
    "    E_t[t] = np.einsum(\"i, ix -> \", 0.5*mass, v_ix**2) + PE\n",
    "    \n",
    "    v_ix += 0.5 * (a_ix + A_ix) * dt - γ * v_ix * dt + np.einsum(\"ix, i -> ix\", ξ_ix, np.sqrt(2*Temp*γ*dt/mass)) + γ * C_ix \n",
    "    \n",
    "    #### Acceleration Reset\n",
    "    a_ix = A_ix"
   ]
  },
  {
   "cell_type": "code",
   "execution_count": 132,
   "metadata": {},
   "outputs": [
    {
     "data": {
      "image/png": "[encoded data removed]",
      "text/plain": [
       "<Figure size 432x288 with 1 Axes>"
      ]
     },
     "metadata": {
      "needs_background": "light"
     },
     "output_type": "display_data"
    }
   ],
   "source": [
    "ε = 1.5e-4\n",
    "E_t - E_t[0]\n",
    "plt.plot(fs_time(time_array), E_t - E_t[0])\n",
    "plt.ylim([-ε, ε])\n",
    "plt.xlabel(\"time (fs)\")\n",
    "plt.show()"
   ]
  },
  {
   "cell_type": "code",
   "execution_count": 129,
   "metadata": {},
   "outputs": [
    {
     "data": {
      "text/plain": [
       "array([[-0.0005643 , -0.00084843, -0.00088311],\n",
       "       [-0.00364832,  0.00048354,  0.0071209 ],\n",
       "       [-0.00266859, -0.00306915,  0.0036224 ],\n",
       "       ...,\n",
       "       [-0.00198972,  0.0001619 ,  0.00387263],\n",
       "       [ 0.00104212,  0.00199385,  0.00518201],\n",
       "       [-0.00129602,  0.00932722,  0.00556959]])"
      ]
     },
     "execution_count": 129,
     "metadata": {},
     "output_type": "execute_result"
    }
   ],
   "source": [
    "ξ_ix = np.random.normal(0, 1, (len(R_ix),3))\n",
    "\n",
    "- γ * v_ix * dt + np.einsum(\"ix, i -> ix\", ξ_ix, np.sqrt(2*Temp*γ*dt/mass)) + γ * C_ix"
   ]
  },
  {
   "cell_type": "code",
   "execution_count": null,
   "metadata": {},
   "outputs": [],
   "source": []
  }
 ],
 "metadata": {
  "kernelspec": {
   "display_name": "Python 3",
   "language": "python",
   "name": "python3"
  },
  "language_info": {
   "codemirror_mode": {
    "name": "ipython",
    "version": 3
   },
   "file_extension": ".py",
   "mimetype": "text/x-python",
   "name": "python",
   "nbconvert_exporter": "python",
   "pygments_lexer": "ipython3",
   "version": "3.7.7"
  }
 },
 "nbformat": 4,
 "nbformat_minor": 4
}
